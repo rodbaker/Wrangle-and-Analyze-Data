{
 "cells": [
  {
   "cell_type": "markdown",
   "metadata": {},
   "source": [
    "## WeRateDogs Twitter Data Wrangling Steps\n",
    "\n",
    "The data wrangling process for the project can be broken into three steps.\n",
    "<br>\n",
    "**Namely gathering, assessing and cleaning.**\n",
    "\n",
    "### 1. Gathering\n",
    "Data for this project came from three different sources:\n",
    "- Original twitter archive data in csv format downloaded manually\n",
    "- Additional data gathered from the WeRateDogs twitter site using Twitters API and Python Tweepy library\n",
    "- The tweets image prediction tsv file hosted on Udacity's servers was downloaded programmatically using the Requests library\n",
    "\n",
    "### 2. Assessing\n",
    "A number of criteria were set for assessing the data. These included:\n",
    "- only want original ratings (no retweets)\n",
    "- only want tweets that have images\n",
    "\n",
    "<br>\n",
    "On top of this at least 8 quality and 2 tidiness issues had to be detected visually and programmatically and then documented\n",
    "\n",
    "### 3. Cleaning\n",
    "- **Issue 1.** df_tweet_archive contains tweets without images. Used pandas dropna\n",
    "- **Issue 2.** Timestamp column was in wrong format. Dealt with this by using parse_dates feature in pandas.read_csv.\n",
    "- **Issue 3.** Duplicated data indicated by retweeted_status_id 181 non null values. Used pandas isnull on retweeted_status_id column and filtered.\n",
    "- **Issue 4.** Not all dogs had a name. Used regex pattern and replace.\n",
    "- **Issue 5.** Text column in df_archive_copy contains text and hyper link at the end. Used a lambda function to split on 'https' and then slice.\n",
    "- **Issue 6.** Multiple denominator values greater than or less than ten. Replaced these with 10 using boolean logic and numpy where function.\n",
    "- **Issue 7.** several records contained more than one dog stage. ie pupper and doggo for the one dog. Replaced these with np.nan\n",
    "- **Issue 8.** Dropped unwanted columns.\n",
    "\n",
    "**Tidyness Issues included:**\n",
    "- Created function to combine four dog stage columns into one called stage\n",
    "- Merged df_archive and df_tweet_copy into one dataframe\n",
    "- Converted df_images from wide format to long using pandas wide_to_long\n",
    "\n",
    "\n",
    "\n",
    "## Resources:\n",
    "\n",
    "- [Reading and Writing JSON to a File in Python](https://stackabuse.com/reading-and-writing-json-to-a-file-in-python/)\n",
    "- [Replace value based on condition with np.where](https://docs.scipy.org/doc/numpy-1.10.1/reference/generated/numpy.where.html)\n",
    "- [How to strip html tags from a string in Python](https://medium.com/@jorlugaqui/how-to-strip-html-tags-from-a-string-in-python-7cb81a2bbf44)\n",
    "- [matplotlib documentation:](https://matplotlib.org/3.1.1/tutorials/index.html)\n",
    "- [pandas documentation:](https://pandas.pydata.org/pandas-docs/stable/)\n",
    "<br>\n",
    "- **Python for Data Analysis Data Wrangling with Pandas, NumPy, and IPython: Wes McKinney**\n",
    "\n"
   ]
  },
  {
   "cell_type": "code",
   "execution_count": null,
   "metadata": {},
   "outputs": [],
   "source": []
  }
 ],
 "metadata": {
  "kernelspec": {
   "display_name": "RMIT",
   "language": "python",
   "name": "rmit"
  },
  "language_info": {
   "codemirror_mode": {
    "name": "ipython",
    "version": 3
   },
   "file_extension": ".py",
   "mimetype": "text/x-python",
   "name": "python",
   "nbconvert_exporter": "python",
   "pygments_lexer": "ipython3",
   "version": "3.6.7"
  }
 },
 "nbformat": 4,
 "nbformat_minor": 2
}
