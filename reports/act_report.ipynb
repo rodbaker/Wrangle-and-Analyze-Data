{
 "cells": [
  {
   "cell_type": "markdown",
   "metadata": {},
   "source": [
    "# Insights into the WeRateDogs Twitter Account\n",
    "<br>"
   ]
  },
  {
   "cell_type": "markdown",
   "metadata": {},
   "source": [
    "### Number Of tweets posted per week in decline\n",
    "- We can see that tweets posted per week dropped drastically from a maximium of 139 in late 2015 to just 19 per week in the last week of March 2016. After this time tweets posted per week averaged just over 13.\n",
    "\n",
    "<img src=\"files/tweet_count.png\">"
   ]
  },
  {
   "cell_type": "markdown",
   "metadata": {},
   "source": [
    "### WeRateDogs favorites or Likes Trending up\n",
    "- Although the number of tweets has been in decline, favorites or the number of times followers or twitter uses like a tweet have steadily increased.\n",
    "- Retweet is a re-posting of a Tweet. Twitter's Retweet feature helps users quickly share that Tweet with all of their followers. Visually looking at the graph below indicates that there could be some correlation between increased retweets and increased favorites\n",
    "\n",
    "<img src=\"files/weekly_fav_retweet.png\">"
   ]
  },
  {
   "cell_type": "markdown",
   "metadata": {},
   "source": [
    "### Strong Correlation between favorites and retweets.\n",
    "- Plotting these two variables on a scatterplot indicates a strong positive relationship. i.e an increase in retweets sees an increase in favorites.\n",
    "- Calculating the Pearson's correlation coefficient gives a value of 0.93. Further supporting the strong relationship between these two variables.\n",
    "\n",
    "<img src=\"files/correlation.png\">"
   ]
  },
  {
   "cell_type": "markdown",
   "metadata": {},
   "source": [
    "## Top 3 Favourites on WeRateDogs\n",
    "## #1 With 159,859 favorites\n",
    "![Image of #1](https://pbs.twimg.com/ext_tw_video_thumb/744234667679821824/pu/img/1GaWmtJtdqzZV7jy.jpg)\n",
    "<br>\n",
    "<br>\n",
    "## #2 With 136,301 favorites\n",
    "![Image of #2](https://pbs.twimg.com/media/C2tugXLXgAArJO4.jpg)\n",
    "<br>\n",
    "<br>\n",
    "## #3 With 123,508 favorites\n",
    "![Image of #3](https://pbs.twimg.com/ext_tw_video_thumb/807106774843039744/pu/img/8XZg1xW35Xp2J6JW.jpg)\n"
   ]
  },
  {
   "cell_type": "markdown",
   "metadata": {},
   "source": [
    "<br>\n",
    "<br>\n",
    "\n",
    "## And to round it out we have the top ten dog names on WeRateDogs. Number one spot being shared by Lucy, Charlie,  Coopermand Oliver\n",
    "<br>\n",
    "<br>\n",
    "<img src=\"files/top_10_names.png\">"
   ]
  },
  {
   "cell_type": "code",
   "execution_count": null,
   "metadata": {},
   "outputs": [],
   "source": []
  }
 ],
 "metadata": {
  "kernelspec": {
   "display_name": "RMIT",
   "language": "python",
   "name": "rmit"
  },
  "language_info": {
   "codemirror_mode": {
    "name": "ipython",
    "version": 3
   },
   "file_extension": ".py",
   "mimetype": "text/x-python",
   "name": "python",
   "nbconvert_exporter": "python",
   "pygments_lexer": "ipython3",
   "version": "3.6.7"
  }
 },
 "nbformat": 4,
 "nbformat_minor": 2
}
